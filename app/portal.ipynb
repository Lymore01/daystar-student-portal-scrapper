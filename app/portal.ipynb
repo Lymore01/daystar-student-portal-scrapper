{
 "cells": [
  {
   "cell_type": "code",
   "execution_count": 1,
   "metadata": {},
   "outputs": [],
   "source": [
    "# imports here\n",
    "from selenium import webdriver\n",
    "from selenium.webdriver.common.keys import Keys\n",
    "from selenium.webdriver.support import expected_conditions as EC\n",
    "from selenium.webdriver.common.by import By\n",
    "from selenium.webdriver.support.wait import WebDriverWait\n",
    "import time\n",
    "import os\n",
    "import pandas as pd"
   ]
  },
  {
   "cell_type": "code",
   "execution_count": 2,
   "metadata": {},
   "outputs": [],
   "source": [
    "\n",
    "driver = webdriver.Chrome()\n",
    "\n",
    "#open the webpage\n",
    "driver.get(\"https://student.daystar.ac.ke/\")\n",
    "\n",
    "#target username\n",
    "username = WebDriverWait(driver, 10).until(EC.element_to_be_clickable((By.CSS_SELECTOR, \"input[id='username']\")))\n",
    "password = WebDriverWait(driver, 10).until(EC.element_to_be_clickable((By.CSS_SELECTOR, \"input[id='userpassword']\")))\n",
    "\n",
    "#enter username and password\n",
    "username.clear()\n",
    "username.send_keys(\"your admission number\")\n",
    "password.clear()\n",
    "password.send_keys(\"your portal password\")\n",
    "\n",
    "#target the login button and click it\n",
    "button = WebDriverWait(driver, 2).until(EC.element_to_be_clickable((By.CSS_SELECTOR, \"button[type='submit']\"))).click()"
   ]
  },
  {
   "cell_type": "code",
   "execution_count": null,
   "metadata": {},
   "outputs": [],
   "source": [
    "# get the registration number\n",
    "# Wait for the registration number element to be visible\n",
    "timeout = 10\n",
    "\n",
    "try:\n",
    "    reg_no_element = WebDriverWait(driver, timeout).until(EC.visibility_of_element_located((By.XPATH, \"//label[text()='Reg. No']/following-sibling::div/span[@class='badge badge-soft-pink']\")))\n",
    "    name_element = WebDriverWait(driver, timeout).until(EC.visibility_of_element_located((By.XPATH, \"//label[text()=' Name']/following-sibling::div/span[@class='badge badge-soft-pink']\")))\n",
    "    # Second column\n",
    "    gender_element = WebDriverWait(driver, timeout).until(EC.visibility_of_element_located((By.XPATH, \"//label[text()='Gender']/following-sibling::div/span[@class='badge badge-soft-pink']\")))\n",
    "    address_element = WebDriverWait(driver, timeout).until(EC.visibility_of_element_located((By.XPATH, \"//label[text()=' Address']/following-sibling::div/span[@class='badge badge-soft-pink']\")))\n",
    "    email_element = WebDriverWait(driver, timeout).until(EC.visibility_of_element_located((By.XPATH, \"//label[text()='Email']/following-sibling::div/span[@class='badge badge-soft-pink']\")))\n",
    "    date_birth_element = WebDriverWait(driver, timeout).until(EC.visibility_of_element_located((By.XPATH, \"//label[text()=' Date Of Birth']/following-sibling::div/span[@class='badge badge-soft-pink']\")))\n",
    "    campus_element = WebDriverWait(driver, timeout).until(EC.visibility_of_element_located((By.XPATH, \"//label[text()=' Campus']/following-sibling::div/span[@class='badge badge-soft-pink']\")))\n",
    "\n",
    "\n",
    "    \n",
    "    # Extract the registration number text\n",
    "    reg_no = reg_no_element.text.strip()\n",
    "    name = name_element.text.strip()\n",
    "    gender = gender_element.text.strip()\n",
    "    address = address_element.text.strip()\n",
    "    email = email_element.text.strip()\n",
    "    dateBirth = date_birth_element.text.strip()\n",
    "    campus = campus_element.text.strip()\n",
    "\n",
    "    fee_statement_element = WebDriverWait(driver, timeout).until(EC.element_to_be_clickable((By.CSS_SELECTOR, \"a[onclick='FeeStatementLink();']\"))).click()\n",
    "    # fee_statement_print = WebDriverWait(driver, timeout).until(EC.element_to_be_clickable((By.CSS_SELECTOR, \"input[onclick='PrintFeeStatement();']\"))).click()\n",
    "    # lets get fee balance\n",
    "    fee_balance = WebDriverWait(driver, timeout).until(EC.visibility_of_element_located((By.XPATH, \"//tbody\")))\n",
    "    # find the number of rows in the table\n",
    "    row = len(WebDriverWait(driver, timeout).until(EC.visibility_of_element_located((By.XPATH, \"//tr\"))))\n",
    "    cols = len(WebDriverWait(driver, timeout).until(EC.visibility_of_element_located((By.XPATH, \"//tr[1]/td\"))))\n",
    "\n",
    "    \n",
    "    print(\"cols: \",cols)\n",
    "\n",
    "    print(\"Reg No:\", reg_no)\n",
    "    print(\"Name:\", name)\n",
    "    print(\"Gender:\", gender)\n",
    "    print(\"Address:\", address_element)\n",
    "    print(\"Email Address:\", email_element)\n",
    "    print(\"date of Birth:\", dateBirth)\n",
    "    print(\"Campus:\", campus)\n",
    "\n",
    "\n",
    "\n",
    "\n",
    "except Exception as e:\n",
    "    print(\"An error occurred:\", e)\n",
    "\n",
    "\n",
    "\n",
    "\n"
   ]
  },
  {
   "cell_type": "code",
   "execution_count": null,
   "metadata": {},
   "outputs": [],
   "source": []
  }
 ],
 "metadata": {
  "kernelspec": {
   "display_name": "Python 3",
   "language": "python",
   "name": "python3"
  },
  "language_info": {
   "codemirror_mode": {
    "name": "ipython",
    "version": 3
   },
   "file_extension": ".py",
   "mimetype": "text/x-python",
   "name": "python",
   "nbconvert_exporter": "python",
   "pygments_lexer": "ipython3",
   "version": "3.11.2"
  }
 },
 "nbformat": 4,
 "nbformat_minor": 2
}
