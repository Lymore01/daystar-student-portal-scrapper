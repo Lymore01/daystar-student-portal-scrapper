{
 "cells": [
  {
   "cell_type": "code",
   "execution_count": 15,
   "metadata": {},
   "outputs": [],
   "source": [
    "# imports here\n",
    "from selenium import webdriver\n",
    "from selenium.webdriver.common.keys import Keys\n",
    "from selenium.webdriver.support import expected_conditions as EC\n",
    "from selenium.webdriver.common.by import By\n",
    "from selenium.webdriver.support.wait import WebDriverWait\n",
    "import time\n",
    "import os\n",
    "import pandas as pd"
   ]
  },
  {
   "cell_type": "code",
   "execution_count": 16,
   "metadata": {},
   "outputs": [],
   "source": [
    "\n",
    "driver = webdriver.Chrome()\n",
    "\n",
    "#open the webpage\n",
    "driver.get(\"https://student.daystar.ac.ke/\")\n",
    "\n",
    "#target username\n",
    "username = WebDriverWait(driver, 10).until(EC.element_to_be_clickable((By.CSS_SELECTOR, \"input[id='username']\")))\n",
    "password = WebDriverWait(driver, 10).until(EC.element_to_be_clickable((By.CSS_SELECTOR, \"input[id='userpassword']\")))\n",
    "\n",
    "#enter username and password\n",
    "username.clear()\n",
    "username.send_keys(\"your admission number\")\n",
    "password.clear()\n",
    "password.send_keys(\"your password\")\n",
    "\n",
    "#target the login button and click it\n",
    "button = WebDriverWait(driver, 2).until(EC.element_to_be_clickable((By.CSS_SELECTOR, \"button[type='submit']\"))).click()"
   ]
  },
  {
   "cell_type": "code",
   "execution_count": 17,
   "metadata": {},
   "outputs": [
    {
     "name": "stdout",
     "output_type": "stream",
     "text": [
      "Reg No: 22-2285\n",
      "Name: KELLY TOROITICH LIMO\n",
      "Gender: Male\n",
      "Address: <selenium.webdriver.remote.webelement.WebElement (session=\"55b4ad0ea8336d1cd7f4946dd49b6a14\", element=\"f.71AB25C386D3DAE4B3614B6444331336.d.D6FB5D7C6B7D9EFA62C13B0378FF96E8.e.60\")>\n",
      "Email Address: <selenium.webdriver.remote.webelement.WebElement (session=\"55b4ad0ea8336d1cd7f4946dd49b6a14\", element=\"f.71AB25C386D3DAE4B3614B6444331336.d.D6FB5D7C6B7D9EFA62C13B0378FF96E8.e.61\")>\n",
      "date of Birth: 03/03/2004\n",
      "Campus: ATHI\n"
     ]
    }
   ],
   "source": [
    "# get the registration number\n",
    "# Wait for the registration number element to be visible\n",
    "# ? feel free to tweak the timeout based on the speed of your internet :)\n",
    "timeout = 20\n",
    "\n",
    "try:\n",
    "    reg_no_element = WebDriverWait(driver, timeout).until(EC.visibility_of_element_located((By.XPATH, \"//label[text()='Reg. No']/following-sibling::div/span[@class='badge badge-soft-pink']\")))\n",
    "    name_element = WebDriverWait(driver, timeout).until(EC.visibility_of_element_located((By.XPATH, \"//label[text()=' Name']/following-sibling::div/span[@class='badge badge-soft-pink']\")))\n",
    "    # Second column\n",
    "    gender_element = WebDriverWait(driver, timeout).until(EC.visibility_of_element_located((By.XPATH, \"//label[text()='Gender']/following-sibling::div/span[@class='badge badge-soft-pink']\")))\n",
    "    address_element = WebDriverWait(driver, timeout).until(EC.visibility_of_element_located((By.XPATH, \"//label[text()=' Address']/following-sibling::div/span[@class='badge badge-soft-pink']\")))\n",
    "    email_element = WebDriverWait(driver, timeout).until(EC.visibility_of_element_located((By.XPATH, \"//label[text()='Email']/following-sibling::div/span[@class='badge badge-soft-pink']\")))\n",
    "    date_birth_element = WebDriverWait(driver, timeout).until(EC.visibility_of_element_located((By.XPATH, \"//label[text()=' Date Of Birth']/following-sibling::div/span[@class='badge badge-soft-pink']\")))\n",
    "    campus_element = WebDriverWait(driver, timeout).until(EC.visibility_of_element_located((By.XPATH, \"//label[text()=' Campus']/following-sibling::div/span[@class='badge badge-soft-pink']\")))\n",
    "\n",
    "\n",
    "    \n",
    "    # Extract the registration number text\n",
    "    reg_no = reg_no_element.text.strip()\n",
    "    name = name_element.text.strip()\n",
    "    gender = gender_element.text.strip()\n",
    "    address = address_element.text.strip()\n",
    "    email = email_element.text.strip()\n",
    "    dateBirth = date_birth_element.text.strip()\n",
    "    campus = campus_element.text.strip()\n",
    "\n",
    "    fee_statement_element = WebDriverWait(driver, timeout).until(EC.element_to_be_clickable((By.CSS_SELECTOR, \"a[onclick='FeeStatementLink();']\"))).click()\n",
    "    # fee_statement_print = WebDriverWait(driver, timeout).until(EC.element_to_be_clickable((By.CSS_SELECTOR, \"input[onclick='PrintFeeStatement();']\"))).click()\n",
    "    # lets get fee balance\n",
    "    fee_balance = WebDriverWait(driver, timeout).until(EC.visibility_of_element_located((By.XPATH, \"//tbody\")))\n",
    "    # find the number of rows in the table\n",
    "    # ? this are for debugging purposes\n",
    "    # row = len(WebDriverWait(driver, timeout).until(EC.visibility_of_element_located((By.XPATH, \"//tr\"))))\n",
    "    # cols = len(WebDriverWait(driver, timeout).until(EC.visibility_of_element_located((By.XPATH, \"//tr[1]/td\"))))\n",
    "    # print(\"cols: \",cols)\n",
    "\n",
    "    print(\"Reg No:\", reg_no)\n",
    "    print(\"Name:\", name)\n",
    "    print(\"Gender:\", gender)\n",
    "    print(\"Address:\", address_element)\n",
    "    print(\"Email Address:\", email_element)\n",
    "    print(\"date of Birth:\", dateBirth)\n",
    "    print(\"Campus:\", campus)\n",
    "\n",
    "\n",
    "\n",
    "\n",
    "except Exception as e:\n",
    "    print(\"An error occurred:\", e)\n",
    "\n",
    "\n",
    "\n",
    "\n"
   ]
  },
  {
   "cell_type": "code",
   "execution_count": null,
   "metadata": {},
   "outputs": [],
   "source": []
  }
 ],
 "metadata": {
  "kernelspec": {
   "display_name": "Python 3",
   "language": "python",
   "name": "python3"
  },
  "language_info": {
   "codemirror_mode": {
    "name": "ipython",
    "version": 3
   },
   "file_extension": ".py",
   "mimetype": "text/x-python",
   "name": "python",
   "nbconvert_exporter": "python",
   "pygments_lexer": "ipython3",
   "version": "3.11.2"
  }
 },
 "nbformat": 4,
 "nbformat_minor": 2
}
